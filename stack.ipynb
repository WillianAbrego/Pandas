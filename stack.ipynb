{
 "cells": [
  {
   "cell_type": "code",
   "execution_count": 1,
   "metadata": {},
   "outputs": [],
   "source": [
    "import pandas as pd\n",
    "import numpy as np\n",
    "from matplotlib import pyplot as plt"
   ]
  },
  {
   "cell_type": "code",
   "execution_count": 2,
   "metadata": {},
   "outputs": [],
   "source": [
    "results = pd.read_csv(\"survey_results_public.csv\",index_col=\"ResponseId\")\n",
    "resultsSchema=pd.read_csv(\"survey_results_schema.csv\")"
   ]
  },
  {
   "cell_type": "code",
   "execution_count": null,
   "metadata": {},
   "outputs": [],
   "source": [
    "results.head(5)"
   ]
  },
  {
   "cell_type": "code",
   "execution_count": null,
   "metadata": {},
   "outputs": [],
   "source": [
    "languages= \"LanguageHaveWorkedWith\"\n",
    "salary=\"ConvertedCompYearly\"\n",
    "\n",
    "results.rename(columns={languages:\"Languages\",salary:\"Salary\"},inplace=True)\n",
    "results.dropna(subset=[\"Salary\",\"Languages\"],inplace=True)\n",
    "\n",
    "results=results.loc[:,[\"Country\",\"Salary\",\"Languages\"]].sort_values(by=\"Salary\")\n",
    "\n",
    "filtro= (results[\"Salary\"]>=10000)&(results[\"Salary\"]<3e6)\n",
    "results=results[filtro]\n"
   ]
  },
  {
   "cell_type": "code",
   "execution_count": 14,
   "metadata": {},
   "outputs": [
    {
     "data": {
      "text/plain": [
       "'C++;HTML/CSS;Java;JavaScript;Node.js;PHP;Python'"
      ]
     },
     "execution_count": 14,
     "metadata": {},
     "output_type": "execute_result"
    }
   ],
   "source": [
    "lg= results[\"Languages\"]\n",
    "allLanguages=lg[21403].split(\";\")\n",
    "lg[21403]"
   ]
  }
 ],
 "metadata": {
  "interpreter": {
   "hash": "d504f1a9e63bae74ac16917e7b4765934e390f0a2d3bcd5ae9de0d7e0cf97470"
  },
  "kernelspec": {
   "display_name": "Python 3.9.7 64-bit",
   "language": "python",
   "name": "python3"
  },
  "language_info": {
   "codemirror_mode": {
    "name": "ipython",
    "version": 3
   },
   "file_extension": ".py",
   "mimetype": "text/x-python",
   "name": "python",
   "nbconvert_exporter": "python",
   "pygments_lexer": "ipython3",
   "version": "3.10.4"
  },
  "orig_nbformat": 4
 },
 "nbformat": 4,
 "nbformat_minor": 2
}
